{
 "cells": [
  {
   "cell_type": "code",
   "execution_count": 1,
   "metadata": {},
   "outputs": [],
   "source": [
    "%load_ext autoreload\n",
    "%autoreload 2"
   ]
  },
  {
   "cell_type": "code",
   "execution_count": 2,
   "metadata": {},
   "outputs": [
    {
     "data": {
      "text/html": [
       "        <script type=\"text/javascript\">\n",
       "        window.PlotlyConfig = {MathJaxConfig: 'local'};\n",
       "        if (window.MathJax) {MathJax.Hub.Config({SVG: {font: \"STIX-Web\"}});}\n",
       "        if (typeof require !== 'undefined') {\n",
       "        require.undef(\"plotly\");\n",
       "        requirejs.config({\n",
       "            paths: {\n",
       "                'plotly': ['https://cdn.plot.ly/plotly-latest.min']\n",
       "            }\n",
       "        });\n",
       "        require(['plotly'], function(Plotly) {\n",
       "            window._Plotly = Plotly;\n",
       "        });\n",
       "        }\n",
       "        </script>\n",
       "        "
      ]
     },
     "metadata": {},
     "output_type": "display_data"
    }
   ],
   "source": [
    "import numpy as np\n",
    "import plotly.graph_objs as go\n",
    "from plotly.offline import download_plotlyjs, init_notebook_mode, plot, iplot\n",
    "\n",
    "init_notebook_mode(connected=True)"
   ]
  },
  {
   "cell_type": "code",
   "execution_count": 22,
   "metadata": {
    "scrolled": false
   },
   "outputs": [
    {
     "data": {
      "application/vnd.plotly.v1+json": {
       "config": {
        "linkText": "Export to plot.ly",
        "plotlyServerURL": "https://plot.ly",
        "showLink": false
       },
       "data": [
        {
         "marker": {
          "color": "rgb(153,153,153)",
          "line": {
           "width": 2
          },
          "size": 20
         },
         "mode": "lines+markers",
         "name": "Matrix",
         "text": [
          "0",
          "0",
          "1",
          "1",
          "1",
          "2",
          "2",
          "3",
          "3",
          "4"
         ],
         "textposition": "middle center",
         "type": "scatter",
         "uid": "350b629d-3907-4a1e-807f-82c7106c11b0",
         "x": [
          5,
          10,
          15,
          20,
          25,
          30,
          35,
          40,
          45
         ],
         "y": [
          0,
          0,
          1,
          1,
          1,
          2,
          2,
          3,
          3,
          4
         ]
        },
        {
         "mode": "lines+markers",
         "name": "Recursive",
         "type": "scatter",
         "uid": "eb62985c-9aa0-4de9-9ec0-bfaf315f97b1",
         "x": [
          5,
          10,
          15,
          20,
          25,
          30,
          35,
          40,
          45
         ],
         "y": [
          0,
          1,
          8,
          86,
          955,
          10633,
          47563,
          519091,
          5753877,
          65234028
         ]
        },
        {
         "mode": "lines+markers",
         "name": "Loop",
         "type": "scatter",
         "uid": "c3171c9d-ee12-4ee2-aec3-a398634f23f0",
         "x": [
          5,
          10,
          15,
          20,
          25,
          30,
          35,
          40,
          45
         ],
         "y": [
          0,
          0,
          0,
          0,
          0,
          1,
          1,
          2,
          2,
          3
         ]
        },
        {
         "mode": "lines+markers",
         "name": "Formula",
         "type": "scatter",
         "uid": "47e5ed13-bee1-4e61-acab-0567dc23dbd0",
         "x": [
          5,
          10,
          15,
          20,
          25,
          30,
          35,
          40,
          45
         ],
         "y": [
          88,
          5,
          7,
          10,
          12,
          13,
          16,
          15,
          16,
          18
         ]
        }
       ],
       "layout": {
        "title": {
         "text": "Time Complexity for Fibonacci Algorithms"
        },
        "xaxis": {
         "title": {
          "text": "Number of Entries"
         }
        },
        "yaxis": {
         "title": {
          "text": "Microseconds"
         },
         "type": "log"
        }
       }
      },
      "text/html": [
       "<div>\n",
       "        \n",
       "        \n",
       "            <div id=\"6e899b9b-929d-4e2a-8713-5768c54672f3\" class=\"plotly-graph-div\" style=\"height:525px; width:100%;\"></div>\n",
       "            <script type=\"text/javascript\">\n",
       "                require([\"plotly\"], function(Plotly) {\n",
       "                    window.PLOTLYENV=window.PLOTLYENV || {};\n",
       "                    window.PLOTLYENV.BASE_URL='https://plot.ly';\n",
       "                    \n",
       "                if (document.getElementById(\"6e899b9b-929d-4e2a-8713-5768c54672f3\")) {\n",
       "                    Plotly.newPlot(\n",
       "                        '6e899b9b-929d-4e2a-8713-5768c54672f3',\n",
       "                        [{\"marker\": {\"color\": \"rgb(153,153,153)\", \"line\": {\"width\": 2}, \"size\": 20}, \"mode\": \"lines+markers\", \"name\": \"Matrix\", \"text\": [\"0\", \"0\", \"1\", \"1\", \"1\", \"2\", \"2\", \"3\", \"3\", \"4\"], \"textposition\": \"middle center\", \"type\": \"scatter\", \"uid\": \"350b629d-3907-4a1e-807f-82c7106c11b0\", \"x\": [5, 10, 15, 20, 25, 30, 35, 40, 45], \"y\": [0, 0, 1, 1, 1, 2, 2, 3, 3, 4]}, {\"mode\": \"lines+markers\", \"name\": \"Recursive\", \"type\": \"scatter\", \"uid\": \"eb62985c-9aa0-4de9-9ec0-bfaf315f97b1\", \"x\": [5, 10, 15, 20, 25, 30, 35, 40, 45], \"y\": [0, 1, 8, 86, 955, 10633, 47563, 519091, 5753877, 65234028]}, {\"mode\": \"lines+markers\", \"name\": \"Loop\", \"type\": \"scatter\", \"uid\": \"c3171c9d-ee12-4ee2-aec3-a398634f23f0\", \"x\": [5, 10, 15, 20, 25, 30, 35, 40, 45], \"y\": [0, 0, 0, 0, 0, 1, 1, 2, 2, 3]}, {\"mode\": \"lines+markers\", \"name\": \"Formula\", \"type\": \"scatter\", \"uid\": \"47e5ed13-bee1-4e61-acab-0567dc23dbd0\", \"x\": [5, 10, 15, 20, 25, 30, 35, 40, 45], \"y\": [88, 5, 7, 10, 12, 13, 16, 15, 16, 18]}],\n",
       "                        {\"title\": {\"text\": \"Time Complexity for Fibonacci Algorithms\"}, \"xaxis\": {\"title\": {\"text\": \"Number of Entries\"}}, \"yaxis\": {\"title\": {\"text\": \"Microseconds\"}, \"type\": \"log\"}},\n",
       "                        {\"showLink\": false, \"linkText\": \"Export to plot.ly\", \"plotlyServerURL\": \"https://plot.ly\", \"responsive\": true}\n",
       "                    ).then(function(){\n",
       "                            \n",
       "var gd = document.getElementById('6e899b9b-929d-4e2a-8713-5768c54672f3');\n",
       "var x = new MutationObserver(function (mutations, observer) {{\n",
       "        var display = window.getComputedStyle(gd).display;\n",
       "        if (!display || display === 'none') {{\n",
       "            console.log([gd, 'removed!']);\n",
       "            Plotly.purge(gd);\n",
       "            observer.disconnect();\n",
       "        }}\n",
       "}});\n",
       "\n",
       "// Listen for the removal of the full notebook cells\n",
       "var notebookContainer = gd.closest('#notebook-container');\n",
       "if (notebookContainer) {{\n",
       "    x.observe(notebookContainer, {childList: true});\n",
       "}}\n",
       "\n",
       "// Listen for the clearing of the current output cell\n",
       "var outputEl = gd.closest('.output');\n",
       "if (outputEl) {{\n",
       "    x.observe(outputEl, {childList: true});\n",
       "}}\n",
       "\n",
       "                        })\n",
       "                };\n",
       "                });\n",
       "            </script>\n",
       "        </div>"
      ]
     },
     "metadata": {},
     "output_type": "display_data"
    }
   ],
   "source": [
    "data = [\n",
    "    go.Scatter(\n",
    "        x = [5, 10, 15, 20, 25, 30, 35, 40, 45],\n",
    "        y = [0, 0, 1, 1, 1, 2, 2, 3, 3, 4],\n",
    "        name = 'Matrix',\n",
    "        mode = 'lines+markers',\n",
    "        text = [0, 0, 1, 1, 1, 2, 2, 3, 3, 4],\n",
    "        textposition='middle center',\n",
    "        marker = dict(\n",
    "            size = 20,\n",
    "#             color = 'rgb(153,153,153)',\n",
    "            line = dict(\n",
    "                width = 2,\n",
    "#                 color = 'rgb(0, 0, 0)'\n",
    "            )\n",
    "        )\n",
    "    ),\n",
    "    \n",
    "    go.Scatter(\n",
    "        x = [5, 10, 15, 20, 25, 30, 35, 40, 45],\n",
    "        y = [0, 1, 8, 86, 955, 10633, 47563, 519091, 5753877, 65234028],\n",
    "        name = 'Recursive',\n",
    "        mode = 'lines+markers',\n",
    "    ),\n",
    "    \n",
    "    go.Scatter(\n",
    "        x = [5, 10, 15, 20, 25, 30, 35, 40, 45],\n",
    "        y = [0, 0, 0, 0, 0, 1, 1, 2, 2, 3],\n",
    "        name = 'Loop',\n",
    "        mode = 'lines+markers'\n",
    "    ),\n",
    "    \n",
    "    go.Scatter(\n",
    "        x = [5, 10, 15, 20, 25, 30, 35, 40, 45],\n",
    "        y = [88, 5, 7, 10, 12, 13, 16, 15, 16, 18],\n",
    "        name = 'Formula',\n",
    "        mode = 'lines+markers'\n",
    "    )\n",
    "]\n",
    "\n",
    "layout = go.Layout(title='Time Complexity for Fibonacci Algorithms',\n",
    "                   xaxis=dict(title='Number of Entries'),\n",
    "                   yaxis=dict(title='Microseconds', type='log'))\n",
    "\n",
    "fig = go.Figure(data=data, layout=layout)\n",
    "iplot(fig, filename='time-complexity')"
   ]
  },
  {
   "cell_type": "code",
   "execution_count": null,
   "metadata": {},
   "outputs": [],
   "source": []
  }
 ],
 "metadata": {
  "kernelspec": {
   "display_name": "Python 3",
   "language": "python",
   "name": "python3"
  },
  "language_info": {
   "codemirror_mode": {
    "name": "ipython",
    "version": 3
   },
   "file_extension": ".py",
   "mimetype": "text/x-python",
   "name": "python",
   "nbconvert_exporter": "python",
   "pygments_lexer": "ipython3",
   "version": "3.6.7"
  }
 },
 "nbformat": 4,
 "nbformat_minor": 2
}
