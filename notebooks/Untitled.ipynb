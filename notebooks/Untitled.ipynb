{
 "cells": [
  {
   "cell_type": "code",
   "execution_count": 1,
   "metadata": {},
   "outputs": [],
   "source": [
    "%load_ext autoreload\n",
    "%autoreload 2"
   ]
  },
  {
   "cell_type": "code",
   "execution_count": 2,
   "metadata": {},
   "outputs": [
    {
     "data": {
      "text/html": [
       "        <script type=\"text/javascript\">\n",
       "        window.PlotlyConfig = {MathJaxConfig: 'local'};\n",
       "        if (window.MathJax) {MathJax.Hub.Config({SVG: {font: \"STIX-Web\"}});}\n",
       "        if (typeof require !== 'undefined') {\n",
       "        require.undef(\"plotly\");\n",
       "        requirejs.config({\n",
       "            paths: {\n",
       "                'plotly': ['https://cdn.plot.ly/plotly-latest.min']\n",
       "            }\n",
       "        });\n",
       "        require(['plotly'], function(Plotly) {\n",
       "            window._Plotly = Plotly;\n",
       "        });\n",
       "        }\n",
       "        </script>\n",
       "        "
      ]
     },
     "metadata": {},
     "output_type": "display_data"
    }
   ],
   "source": [
    "import numpy as np\n",
    "import plotly.graph_objs as go\n",
    "from plotly.offline import download_plotlyjs, init_notebook_mode, plot, iplot\n",
    "\n",
    "init_notebook_mode(connected=True)"
   ]
  },
  {
   "cell_type": "code",
   "execution_count": 43,
   "metadata": {
    "scrolled": false
   },
   "outputs": [
    {
     "data": {
      "application/vnd.plotly.v1+json": {
       "config": {
        "linkText": "Export to plot.ly",
        "plotlyServerURL": "https://plot.ly",
        "showLink": false
       },
       "data": [
        {
         "line": {
          "color": "rgb(153,153,153)"
         },
         "name": "Matrix",
         "text": [
          "0",
          "0",
          "1",
          "1",
          "1",
          "2",
          "2",
          "3",
          "3",
          "4"
         ],
         "type": "scatter",
         "uid": "e8b87bbb-5c02-494a-9fbc-9349b1db1220",
         "x": [
          5,
          10,
          15,
          20,
          25,
          30,
          35,
          40,
          45
         ],
         "y": [
          0,
          0,
          1,
          1,
          1,
          2,
          2,
          3,
          3,
          4
         ]
        },
        {
         "line": {
          "color": "rgb(85,200,85)"
         },
         "name": "Recursive",
         "text": [
          "0",
          "1",
          "8",
          "86",
          "955",
          "10633",
          "47563",
          "519091",
          "5753877",
          "65234028"
         ],
         "type": "scatter",
         "uid": "30841afa-3e64-42a9-97bd-f6bf804d990f",
         "x": [
          5,
          10,
          15,
          20,
          25,
          30,
          35,
          40,
          45
         ],
         "y": [
          0,
          1,
          8,
          86,
          955,
          10633,
          47563,
          519091,
          5753877,
          65234028
         ]
        },
        {
         "line": {
          "color": "rgb(51,51,200)"
         },
         "name": "Loop",
         "text": [
          "0",
          "0",
          "0",
          "0",
          "0",
          "1",
          "1",
          "2",
          "2",
          "3"
         ],
         "type": "scatter",
         "uid": "de0e9f58-30ae-498d-b831-596b62d8052c",
         "x": [
          5,
          10,
          15,
          20,
          25,
          30,
          35,
          40,
          45
         ],
         "y": [
          0,
          0,
          0,
          0,
          0,
          1,
          1,
          2,
          2,
          3
         ]
        },
        {
         "line": {
          "color": "rgb(200,17,17)"
         },
         "name": "Formula",
         "text": [
          "88",
          "5",
          "7",
          "10",
          "12",
          "13",
          "16",
          "15",
          "16",
          "18"
         ],
         "type": "scatter",
         "uid": "de2b9564-4d2f-4488-9207-05e496ffea62",
         "x": [
          5,
          10,
          15,
          20,
          25,
          30,
          35,
          40,
          45
         ],
         "y": [
          88,
          5,
          7,
          10,
          12,
          13,
          16,
          15,
          16,
          18
         ]
        }
       ],
       "layout": {
        "title": {
         "text": "Complexidade Fibonacci"
        },
        "xaxis": {
         "title": {
          "text": "Entradas"
         }
        },
        "yaxis": {
         "title": {
          "text": "Microsegundos (log)"
         },
         "type": "log"
        }
       }
      },
      "text/html": [
       "<div>\n",
       "        \n",
       "        \n",
       "            <div id=\"df32ef1e-6bd9-4060-8efc-5747baaae4b0\" class=\"plotly-graph-div\" style=\"height:525px; width:100%;\"></div>\n",
       "            <script type=\"text/javascript\">\n",
       "                require([\"plotly\"], function(Plotly) {\n",
       "                    window.PLOTLYENV=window.PLOTLYENV || {};\n",
       "                    window.PLOTLYENV.BASE_URL='https://plot.ly';\n",
       "                    \n",
       "                if (document.getElementById(\"df32ef1e-6bd9-4060-8efc-5747baaae4b0\")) {\n",
       "                    Plotly.newPlot(\n",
       "                        'df32ef1e-6bd9-4060-8efc-5747baaae4b0',\n",
       "                        [{\"line\": {\"color\": \"rgb(153,153,153)\"}, \"name\": \"Matrix\", \"text\": [\"0\", \"0\", \"1\", \"1\", \"1\", \"2\", \"2\", \"3\", \"3\", \"4\"], \"type\": \"scatter\", \"uid\": \"e8b87bbb-5c02-494a-9fbc-9349b1db1220\", \"x\": [5, 10, 15, 20, 25, 30, 35, 40, 45], \"y\": [0, 0, 1, 1, 1, 2, 2, 3, 3, 4]}, {\"line\": {\"color\": \"rgb(85,200,85)\"}, \"name\": \"Recursive\", \"text\": [\"0\", \"1\", \"8\", \"86\", \"955\", \"10633\", \"47563\", \"519091\", \"5753877\", \"65234028\"], \"type\": \"scatter\", \"uid\": \"30841afa-3e64-42a9-97bd-f6bf804d990f\", \"x\": [5, 10, 15, 20, 25, 30, 35, 40, 45], \"y\": [0, 1, 8, 86, 955, 10633, 47563, 519091, 5753877, 65234028]}, {\"line\": {\"color\": \"rgb(51,51,200)\"}, \"name\": \"Loop\", \"text\": [\"0\", \"0\", \"0\", \"0\", \"0\", \"1\", \"1\", \"2\", \"2\", \"3\"], \"type\": \"scatter\", \"uid\": \"de0e9f58-30ae-498d-b831-596b62d8052c\", \"x\": [5, 10, 15, 20, 25, 30, 35, 40, 45], \"y\": [0, 0, 0, 0, 0, 1, 1, 2, 2, 3]}, {\"line\": {\"color\": \"rgb(200,17,17)\"}, \"name\": \"Formula\", \"text\": [\"88\", \"5\", \"7\", \"10\", \"12\", \"13\", \"16\", \"15\", \"16\", \"18\"], \"type\": \"scatter\", \"uid\": \"de2b9564-4d2f-4488-9207-05e496ffea62\", \"x\": [5, 10, 15, 20, 25, 30, 35, 40, 45], \"y\": [88, 5, 7, 10, 12, 13, 16, 15, 16, 18]}],\n",
       "                        {\"title\": {\"text\": \"Complexidade Fibonacci\"}, \"xaxis\": {\"title\": {\"text\": \"Entradas\"}}, \"yaxis\": {\"title\": {\"text\": \"Microsegundos (log)\"}, \"type\": \"log\"}},\n",
       "                        {\"showLink\": false, \"linkText\": \"Export to plot.ly\", \"plotlyServerURL\": \"https://plot.ly\", \"responsive\": true}\n",
       "                    ).then(function(){\n",
       "                            \n",
       "var gd = document.getElementById('df32ef1e-6bd9-4060-8efc-5747baaae4b0');\n",
       "var x = new MutationObserver(function (mutations, observer) {{\n",
       "        var display = window.getComputedStyle(gd).display;\n",
       "        if (!display || display === 'none') {{\n",
       "            console.log([gd, 'removed!']);\n",
       "            Plotly.purge(gd);\n",
       "            observer.disconnect();\n",
       "        }}\n",
       "}});\n",
       "\n",
       "// Listen for the removal of the full notebook cells\n",
       "var notebookContainer = gd.closest('#notebook-container');\n",
       "if (notebookContainer) {{\n",
       "    x.observe(notebookContainer, {childList: true});\n",
       "}}\n",
       "\n",
       "// Listen for the clearing of the current output cell\n",
       "var outputEl = gd.closest('.output');\n",
       "if (outputEl) {{\n",
       "    x.observe(outputEl, {childList: true});\n",
       "}}\n",
       "\n",
       "                        })\n",
       "                };\n",
       "                });\n",
       "            </script>\n",
       "        </div>"
      ]
     },
     "metadata": {},
     "output_type": "display_data"
    }
   ],
   "source": [
    "data = [\n",
    "    go.Scatter(\n",
    "        x = [5, 10, 15, 20, 25, 30, 35, 40, 45],\n",
    "        y = [0, 0, 1, 1, 1, 2, 2, 3, 3, 4],\n",
    "        name = 'Matrix',\n",
    "        text = [0, 0, 1, 1, 1, 2, 2, 3, 3, 4],\n",
    "        line=dict(color='rgb(153,153,153)'),\n",
    "    ),\n",
    "    \n",
    "    go.Scatter(\n",
    "        x = [5, 10, 15, 20, 25, 30, 35, 40, 45],\n",
    "        y = [0, 1, 8, 86, 955, 10633, 47563, 519091, 5753877, 65234028],\n",
    "        name = 'Recursive',\n",
    "        text = [0, 1, 8, 86, 955, 10633, 47563, 519091, 5753877, 65234028],\n",
    "        line=dict(color='rgb(85,200,85)'),\n",
    "    ),\n",
    "    \n",
    "    go.Scatter(\n",
    "        x = [5, 10, 15, 20, 25, 30, 35, 40, 45],\n",
    "        y = [0, 0, 0, 0, 0, 1, 1, 2, 2, 3],\n",
    "        name = 'Loop',\n",
    "        text = [0, 0, 0, 0, 0, 1, 1, 2, 2, 3],\n",
    "        line=dict(color='rgb(51,51,200)'),\n",
    "    ),\n",
    "    \n",
    "    go.Scatter(\n",
    "        x = [5, 10, 15, 20, 25, 30, 35, 40, 45],\n",
    "        y = [88, 5, 7, 10, 12, 13, 16, 15, 16, 18],\n",
    "        text = [88, 5, 7, 10, 12, 13, 16, 15, 16, 18],\n",
    "        line=dict(color='rgb(200,17,17)'),\n",
    "        name = 'Formula',\n",
    "    )\n",
    "]\n",
    "\n",
    "layout = go.Layout(title='Complexidade Fibonacci',\n",
    "                   xaxis=dict(title='Entradas'),\n",
    "                   yaxis=dict(title='Microsegundos (log)', type='log'))\n",
    "\n",
    "fig = go.Figure(data=data, layout=layout)\n",
    "iplot(fig, filename='time-complexity')"
   ]
  },
  {
   "cell_type": "code",
   "execution_count": null,
   "metadata": {},
   "outputs": [],
   "source": []
  }
 ],
 "metadata": {
  "kernelspec": {
   "display_name": "Python 3",
   "language": "python",
   "name": "python3"
  },
  "language_info": {
   "codemirror_mode": {
    "name": "ipython",
    "version": 3
   },
   "file_extension": ".py",
   "mimetype": "text/x-python",
   "name": "python",
   "nbconvert_exporter": "python",
   "pygments_lexer": "ipython3",
   "version": "3.6.7"
  }
 },
 "nbformat": 4,
 "nbformat_minor": 2
}
