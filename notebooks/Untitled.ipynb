{
 "cells": [
  {
   "cell_type": "code",
   "execution_count": 1,
   "metadata": {},
   "outputs": [],
   "source": [
    "%load_ext autoreload\n",
    "%autoreload 2"
   ]
  },
  {
   "cell_type": "code",
   "execution_count": 2,
   "metadata": {},
   "outputs": [
    {
     "data": {
      "text/html": [
       "        <script type=\"text/javascript\">\n",
       "        window.PlotlyConfig = {MathJaxConfig: 'local'};\n",
       "        if (window.MathJax) {MathJax.Hub.Config({SVG: {font: \"STIX-Web\"}});}\n",
       "        if (typeof require !== 'undefined') {\n",
       "        require.undef(\"plotly\");\n",
       "        requirejs.config({\n",
       "            paths: {\n",
       "                'plotly': ['https://cdn.plot.ly/plotly-latest.min']\n",
       "            }\n",
       "        });\n",
       "        require(['plotly'], function(Plotly) {\n",
       "            window._Plotly = Plotly;\n",
       "        });\n",
       "        }\n",
       "        </script>\n",
       "        "
      ]
     },
     "metadata": {},
     "output_type": "display_data"
    }
   ],
   "source": [
    "import numpy as np\n",
    "import plotly.graph_objs as go\n",
    "from plotly.offline import download_plotlyjs, init_notebook_mode, plot, iplot\n",
    "\n",
    "init_notebook_mode(connected=True)"
   ]
  },
  {
   "cell_type": "code",
   "execution_count": 15,
   "metadata": {
    "scrolled": false
   },
   "outputs": [
    {
     "data": {
      "application/vnd.plotly.v1+json": {
       "config": {
        "linkText": "Export to plot.ly",
        "plotlyServerURL": "https://plot.ly",
        "showLink": false
       },
       "data": [
        {
         "name": "Matrix",
         "text": [
          "3076",
          "1533",
          "1542",
          "2024",
          "2304",
          "2674",
          "3146",
          "3567",
          "3897",
          "4528",
          "12262",
          "28234"
         ],
         "type": "bar",
         "uid": "3f3f2a2c-e5ad-44b8-ad96-34648df1ce24",
         "x": [
          5,
          10,
          15,
          20,
          25,
          30,
          35,
          40,
          45,
          60,
          70
         ],
         "y": [
          3076,
          1533,
          1542,
          2024,
          2304,
          2674,
          3146,
          3567,
          3897,
          4528,
          12262,
          28234
         ]
        },
        {
         "name": "Recursive",
         "text": [
          "601",
          "1994",
          "7945",
          "43068",
          "417014",
          "4565710",
          "24483145",
          "214437282",
          "2444384571",
          "27254968621",
          "354314592073",
          "2834516736584"
         ],
         "type": "bar",
         "uid": "7b1997ce-edb4-4d93-9225-dd637f62dac0",
         "x": [
          5,
          10,
          15,
          20,
          25,
          30,
          35,
          40,
          45,
          60,
          70
         ],
         "y": [
          601,
          1994,
          7945,
          43068,
          417014,
          4565710,
          24483145,
          214437282,
          2444384571,
          27254968621,
          354314592073,
          2834516736584
         ]
        },
        {
         "name": "Loop",
         "text": [
          "541",
          "911",
          "1102",
          "1352",
          "1413",
          "1653",
          "1954",
          "2054",
          "2315",
          "2775",
          "41625",
          "416250"
         ],
         "type": "bar",
         "uid": "2d6ab966-cfe8-419d-b1fa-332e90fec7c9",
         "x": [
          5,
          10,
          15,
          20,
          25,
          30,
          35,
          40,
          45,
          60,
          70
         ],
         "y": [
          541,
          911,
          1102,
          1352,
          1413,
          1653,
          1954,
          2054,
          2315,
          2775,
          41625,
          416250
         ]
        },
        {
         "name": "Formula",
         "text": [
          "29663",
          "4528",
          "6371",
          "8285",
          "10088",
          "11591",
          "13644",
          "16199",
          "17512",
          "19134",
          "51816",
          "119311"
         ],
         "type": "bar",
         "uid": "87f5ec55-4bbb-4e49-93da-ea5296345580",
         "x": [
          5,
          10,
          15,
          20,
          25,
          30,
          35,
          40,
          45,
          60,
          70
         ],
         "y": [
          29663,
          4528,
          6371,
          8285,
          10088,
          11591,
          13644,
          16199,
          17512,
          19134,
          51816,
          119311
         ]
        }
       ],
       "layout": {
        "title": {
         "text": "Complexidade Fibonacci"
        },
        "xaxis": {
         "title": {
          "text": "Number of Terms"
         }
        },
        "yaxis": {
         "title": {
          "text": "Nanoseconds (log)"
         },
         "type": "log"
        }
       }
      },
      "text/html": [
       "<div>\n",
       "        \n",
       "        \n",
       "            <div id=\"68ab7c7e-67c6-4576-9fd2-de1d3a57eb7e\" class=\"plotly-graph-div\" style=\"height:525px; width:100%;\"></div>\n",
       "            <script type=\"text/javascript\">\n",
       "                require([\"plotly\"], function(Plotly) {\n",
       "                    window.PLOTLYENV=window.PLOTLYENV || {};\n",
       "                    window.PLOTLYENV.BASE_URL='https://plot.ly';\n",
       "                    \n",
       "                if (document.getElementById(\"68ab7c7e-67c6-4576-9fd2-de1d3a57eb7e\")) {\n",
       "                    Plotly.newPlot(\n",
       "                        '68ab7c7e-67c6-4576-9fd2-de1d3a57eb7e',\n",
       "                        [{\"name\": \"Matrix\", \"text\": [\"3076\", \"1533\", \"1542\", \"2024\", \"2304\", \"2674\", \"3146\", \"3567\", \"3897\", \"4528\", \"12262\", \"28234\"], \"type\": \"bar\", \"uid\": \"3f3f2a2c-e5ad-44b8-ad96-34648df1ce24\", \"x\": [5, 10, 15, 20, 25, 30, 35, 40, 45, 60, 70], \"y\": [3076, 1533, 1542, 2024, 2304, 2674, 3146, 3567, 3897, 4528, 12262, 28234]}, {\"name\": \"Recursive\", \"text\": [\"601\", \"1994\", \"7945\", \"43068\", \"417014\", \"4565710\", \"24483145\", \"214437282\", \"2444384571\", \"27254968621\", \"354314592073\", \"2834516736584\"], \"type\": \"bar\", \"uid\": \"7b1997ce-edb4-4d93-9225-dd637f62dac0\", \"x\": [5, 10, 15, 20, 25, 30, 35, 40, 45, 60, 70], \"y\": [601, 1994, 7945, 43068, 417014, 4565710, 24483145, 214437282, 2444384571, 27254968621, 354314592073, 2834516736584]}, {\"name\": \"Loop\", \"text\": [\"541\", \"911\", \"1102\", \"1352\", \"1413\", \"1653\", \"1954\", \"2054\", \"2315\", \"2775\", \"41625\", \"416250\"], \"type\": \"bar\", \"uid\": \"2d6ab966-cfe8-419d-b1fa-332e90fec7c9\", \"x\": [5, 10, 15, 20, 25, 30, 35, 40, 45, 60, 70], \"y\": [541, 911, 1102, 1352, 1413, 1653, 1954, 2054, 2315, 2775, 41625, 416250]}, {\"name\": \"Formula\", \"text\": [\"29663\", \"4528\", \"6371\", \"8285\", \"10088\", \"11591\", \"13644\", \"16199\", \"17512\", \"19134\", \"51816\", \"119311\"], \"type\": \"bar\", \"uid\": \"87f5ec55-4bbb-4e49-93da-ea5296345580\", \"x\": [5, 10, 15, 20, 25, 30, 35, 40, 45, 60, 70], \"y\": [29663, 4528, 6371, 8285, 10088, 11591, 13644, 16199, 17512, 19134, 51816, 119311]}],\n",
       "                        {\"title\": {\"text\": \"Complexidade Fibonacci\"}, \"xaxis\": {\"title\": {\"text\": \"Number of Terms\"}}, \"yaxis\": {\"title\": {\"text\": \"Nanoseconds (log)\"}, \"type\": \"log\"}},\n",
       "                        {\"showLink\": false, \"linkText\": \"Export to plot.ly\", \"plotlyServerURL\": \"https://plot.ly\", \"responsive\": true}\n",
       "                    ).then(function(){\n",
       "                            \n",
       "var gd = document.getElementById('68ab7c7e-67c6-4576-9fd2-de1d3a57eb7e');\n",
       "var x = new MutationObserver(function (mutations, observer) {{\n",
       "        var display = window.getComputedStyle(gd).display;\n",
       "        if (!display || display === 'none') {{\n",
       "            console.log([gd, 'removed!']);\n",
       "            Plotly.purge(gd);\n",
       "            observer.disconnect();\n",
       "        }}\n",
       "}});\n",
       "\n",
       "// Listen for the removal of the full notebook cells\n",
       "var notebookContainer = gd.closest('#notebook-container');\n",
       "if (notebookContainer) {{\n",
       "    x.observe(notebookContainer, {childList: true});\n",
       "}}\n",
       "\n",
       "// Listen for the clearing of the current output cell\n",
       "var outputEl = gd.closest('.output');\n",
       "if (outputEl) {{\n",
       "    x.observe(outputEl, {childList: true});\n",
       "}}\n",
       "\n",
       "                        })\n",
       "                };\n",
       "                });\n",
       "            </script>\n",
       "        </div>"
      ]
     },
     "metadata": {},
     "output_type": "display_data"
    }
   ],
   "source": [
    "data = [\n",
    "    go.Bar(\n",
    "        x = [5, 10, 15, 20, 25, 30, 35, 40, 45, 60, 70],\n",
    "        y = [3076, 1533, 1542, 2024, 2304, 2674, 3146, 3567, 3897, 4528, 12262, 28234],\n",
    "        name = 'Matrix',\n",
    "        text = [3076, 1533, 1542, 2024, 2304, 2674, 3146, 3567, 3897, 4528, 12262, 28234],\n",
    "    ),\n",
    "    \n",
    "    go.Bar(\n",
    "        x = [5, 10, 15, 20, 25, 30, 35, 40, 45, 60, 70],\n",
    "        y = [601, 1994, 7945, 43068, 417014, 4565710, 24483145,\n",
    "             214437282, 2444384571, 27254968621, 354314592073, 2834516736584],\n",
    "        name = 'Recursive',\n",
    "        text = [601, 1994, 7945, 43068, 417014, 4565710, 24483145,\n",
    "                214437282, 2444384571, 27254968621, 354314592073, 2834516736584],\n",
    "    ),\n",
    "    \n",
    "    go.Bar(\n",
    "        x = [5, 10, 15, 20, 25, 30, 35, 40, 45, 60, 70],\n",
    "        y = [541, 911, 1102, 1352, 1413, 1653, 1954, 2054, 2315, 2775, 41625, 416250],\n",
    "        name = 'Loop',\n",
    "        text = [541, 911, 1102, 1352, 1413, 1653, 1954, 2054, 2315, 2775, 41625, 416250],\n",
    "    ),\n",
    "    \n",
    "    go.Bar(\n",
    "        x = [5, 10, 15, 20, 25, 30, 35, 40, 45, 60, 70],\n",
    "        y = [29663, 4528, 6371, 8285, 10088, 11591, 13644, 16199, 17512, 19134, 51816, 119311],\n",
    "        text = [29663, 4528, 6371, 8285, 10088, 11591, 13644, 16199, 17512, 19134, 51816, 119311],\n",
    "        name = 'Formula',\n",
    "    )\n",
    "]\n",
    "\n",
    "layout = go.Layout(title='Complexidade Fibonacci',\n",
    "                   xaxis=dict(title='Number of Terms'),\n",
    "                   yaxis=dict(title='Nanoseconds (log)', type='log'))\n",
    "\n",
    "fig = go.Figure(data=data, layout=layout)\n",
    "iplot(fig, filename='time-complexity')"
   ]
  }
 ],
 "metadata": {
  "kernelspec": {
   "display_name": "Python 3",
   "language": "python",
   "name": "python3"
  },
  "language_info": {
   "codemirror_mode": {
    "name": "ipython",
    "version": 3
   },
   "file_extension": ".py",
   "mimetype": "text/x-python",
   "name": "python",
   "nbconvert_exporter": "python",
   "pygments_lexer": "ipython3",
   "version": "3.6.7"
  }
 },
 "nbformat": 4,
 "nbformat_minor": 2
}
